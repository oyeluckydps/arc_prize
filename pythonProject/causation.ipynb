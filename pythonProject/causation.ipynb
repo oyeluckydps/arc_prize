{
 "cells": [
  {
   "cell_type": "code",
   "execution_count": 21,
   "metadata": {},
   "outputs": [],
   "source": [
    "from utils.file_handling import get_snapshot_images_path, json_folder_path, load_json_by_page\n",
    "from llm.snapshot import get_snapshots\n",
    "from llm.connectors.dspy_chat import DSPyChat\n",
    "from PIL import Image\n",
    "import pprint\n",
    "\n",
    "working_set = \"evaluation_challenges\"\n",
    "page_number = 13"
   ]
  },
  {
   "cell_type": "markdown",
   "metadata": {},
   "source": [
    "Get the json path and matrices."
   ]
  },
  {
   "cell_type": "code",
   "execution_count": 3,
   "metadata": {},
   "outputs": [
    {
     "name": "stdout",
     "output_type": "stream",
     "text": [
      "processed_json/evaluation_challenges/013_0a2355a6.json\n"
     ]
    }
   ],
   "source": [
    "# Define the path to the data folder\n",
    "folder_path = json_folder_path(working_set)\n",
    "\n",
    "# Call the function from data_initialize.py for page number 3\n",
    "result = load_json_by_page(folder=folder_path, page_number=page_number)\n",
    "\n",
    "train_inputs = [elem['input'] for elem in result['train']]\n",
    "test_inputs = [elem['input'] for elem in result['test']]\n",
    "train_outputa = [elem['output'] for elem in result['train']]"
   ]
  },
  {
   "cell_type": "markdown",
   "metadata": {},
   "source": [
    "Generate the snapshots for the given working set and page number."
   ]
  },
  {
   "cell_type": "code",
   "execution_count": 4,
   "metadata": {},
   "outputs": [
    {
     "name": "stdout",
     "output_type": "stream",
     "text": [
      "processed_json/evaluation_challenges/013_0a2355a6.json\n",
      "processed_json/evaluation_solutions/013_0a2355a6.json\n",
      "processed_json/evaluation_challenges/013_0a2355a6.json\n",
      "processed_json/evaluation_solutions/013_0a2355a6.json\n",
      "[PosixPath('snapshots/evaluation_challenges/13/train_0_pair.jpg')]\n"
     ]
    }
   ],
   "source": [
    "import pygame\n",
    "pygame.init()\n",
    "get_snapshots(working_set, page_number)\n",
    "pygame.quit()"
   ]
  },
  {
   "cell_type": "markdown",
   "metadata": {},
   "source": [
    "Initiate a DSPy Chat session with Gemini model. Load a single training pair image and ask for the causation between input and output."
   ]
  },
  {
   "cell_type": "code",
   "execution_count": 38,
   "metadata": {},
   "outputs": [
    {
     "name": "stdout",
     "output_type": "stream",
     "text": [
      "[PosixPath('snapshots/evaluation_challenges/13/train_1_pair.jpg'), PosixPath('snapshots/evaluation_challenges/13/train_0_pair.jpg'), PosixPath('snapshots/evaluation_challenges/13/train_2_pair.jpg'), PosixPath('snapshots/evaluation_challenges/13/train_3_pair.jpg')]\n"
     ]
    }
   ],
   "source": [
    "images_path = get_snapshot_images_path(working_set, page_number, grid_type='train', index=None, grid_name='pair')\n",
    "imgs = [Image.open(p) for p in images_path]\n",
    "\n",
    "print(images_path)\n",
    "\n",
    "dspy_instance = DSPyChat()"
   ]
  },
  {
   "cell_type": "code",
   "execution_count": 32,
   "metadata": {},
   "outputs": [
    {
     "name": "stdout",
     "output_type": "stream",
     "text": [
      "('The most likely rule is: **Each connected component in the input grid is '\n",
      " 'assigned a unique color in the output grid, and the components are moved to '\n",
      " 'the top left corner of the grid, while maintaining their relative '\n",
      " 'positions.**\\n'\n",
      " '\\n'\n",
      " \"Here's why:\\n\"\n",
      " '\\n'\n",
      " '* **Color Mapping:** Each distinct connected group of orange squares in the '\n",
      " 'input corresponds to a uniquely colored shape in the output (green, blue, '\n",
      " 'red).\\n'\n",
      " '* **Relocation:** The shapes in the output grid maintain the same relative '\n",
      " 'positions as the connected components in the input grid, but they are '\n",
      " 'shifted to the top left. \\n'\n",
      " '* **Background:** The black squares in the input grid seem to be ignored or '\n",
      " 'treated as background.\\n'\n",
      " '\\n'\n",
      " 'This explanation is simple, consistent with the observed pattern, and '\n",
      " \"doesn't require any complex assumptions. \\n\")\n"
     ]
    }
   ],
   "source": [
    "response = dspy_instance.send_message(imgs[0], \"What do you see in the image? Do you see a pair of girds?\")\n",
    "print(response)\n",
    "analyze_causation = []\n",
    "response_causation = []\n",
    "analyze_causation.append(f\"\"\"You are right. The image on the left is an input grid and the image on the right on the right is the output grid.\n",
    "Pertaining to some hidden rule, the output grid was constructed from the input grid by applying the rule. I would like you to guess the most likely explanation that led from the\n",
    "input grid to the output grid. Tell me the most likely explanation.\n",
    "\"\"\")\n",
    "response_causation.append(dspy_instance.send_message(analyze_causation[0]))\n",
    "pprint.pprint(response_causation[0])"
   ]
  },
  {
   "cell_type": "markdown",
   "metadata": {},
   "source": [
    "Now lets analyze the second pair."
   ]
  },
  {
   "cell_type": "code",
   "execution_count": 33,
   "metadata": {},
   "outputs": [
    {
     "name": "stdout",
     "output_type": "stream",
     "text": [
      "(\"You're right, my previous explanation was incomplete!  There's more to the \"\n",
      " 'pattern than just color mapping and relocation. \\n'\n",
      " '\\n'\n",
      " \"Here's the updated explanation:\\n\"\n",
      " '\\n'\n",
      " '**The rule identifies closed loops formed by the orange squares in the input '\n",
      " 'grid. Each closed loop is assigned a unique color in the output grid. The '\n",
      " 'loops are then extracted and placed in the top left corner of the output '\n",
      " 'grid, maintaining their relative positions and orientations.**\\n'\n",
      " '\\n'\n",
      " \"Here's how this explanation improves upon the previous one:\\n\"\n",
      " '\\n'\n",
      " '* **Closed Loops:** The key difference is the focus on **closed loops** '\n",
      " 'rather than just connected components. This explains why some orange squares '\n",
      " \"in the input don't get mapped to the output – they are not part of a closed \"\n",
      " 'loop.\\n'\n",
      " '* **Orientation:** The new explanation also accounts for the fact that the '\n",
      " 'shapes in the output grid maintain the same orientation as the corresponding '\n",
      " 'loops in the input grid.\\n'\n",
      " '\\n'\n",
      " 'This updated explanation is more comprehensive and accurately reflects the '\n",
      " 'relationship between the input and output grids. \\n')\n"
     ]
    }
   ],
   "source": [
    "instruction = \"\"\"Now I want you to analyze another pair of training images. The same rule that applied to previous pair applies here too.\"\"\"\n",
    "analyze_causation.append(f\"\"\"Pertaining to the same hidden rule, the output grid was constructed from the input grid again by applying the same rule. \n",
    "                         I would like you to guess the most likely explanation that led from the input grids to the output grids. \n",
    "                         Remeber that your first explanation might have been incomplete or wrong.\n",
    "                         It is a good idea to update the explanation so that it is more likely to explain upcoming questions where only input image would be shown.\n",
    "                         Tell me the udpated most likely explanation. Also tell me what changes have you made for the new explanation compared to the previous one.\n",
    "\n",
    "\"\"\")\n",
    "\n",
    "response_causation.append(dspy_instance.send_message(imgs[1], analyze_causation[1]))\n",
    "\n",
    "pprint.pprint(response_causation[1])"
   ]
  },
  {
   "cell_type": "code",
   "execution_count": 34,
   "metadata": {},
   "outputs": [
    {
     "name": "stdout",
     "output_type": "stream",
     "text": [
      "('My previous explanation about closed loops seems to hold up well with this '\n",
      " \"new example! Let's break it down to confirm:\\n\"\n",
      " '\\n'\n",
      " '* **Closed Loops:**  The input grid has three distinct closed loops formed '\n",
      " 'by the orange squares. \\n'\n",
      " '* **Color Mapping:** Each closed loop in the input grid corresponds to a '\n",
      " 'uniquely colored shape in the output grid (red, blue, green).\\n'\n",
      " '* **Relocation and Orientation:** The colored shapes in the output grid '\n",
      " 'maintain the same relative positions and orientations as the corresponding '\n",
      " 'loops in the input grid. They are moved to the top left corner, but their '\n",
      " 'structure within themselves is unchanged.\\n'\n",
      " '\\n'\n",
      " '**No changes are needed to the previous explanation.** This example '\n",
      " 'reinforces that the rule is focused on identifying and extracting closed '\n",
      " 'loops, not just connected components. \\n'\n",
      " '\\n'\n",
      " \"I'm feeling more confident about this rule now!  Let's see if we can test it \"\n",
      " 'with more examples. \\n')\n"
     ]
    }
   ],
   "source": [
    "instruction = \"\"\"Now I want you to analyze another pair of training images. The same rule that applied to previous pair applies here too.\"\"\"\n",
    "dspy_instance.send_message(instruction)\n",
    "response_causation.append(dspy_instance.send_message(imgs[2], analyze_causation[-1]))\n",
    "\n",
    "pprint.pprint(response_causation[2])"
   ]
  },
  {
   "cell_type": "code",
   "execution_count": 45,
   "metadata": {},
   "outputs": [
    {
     "name": "stdout",
     "output_type": "stream",
     "text": [
      "```python\n",
      "inp_mat = [\n",
      "    [0, 0, 0, 0, 8, 8, 8, 8, 0, 0, 0, 0, 0, 0, 0],\n",
      "    [0, 0, 0, 0, 8, 0, 0, 8, 0, 0, 0, 0, 0, 0, 0],\n",
      "    [0, 0, 0, 0, 8, 8, 8, 8, 0, 0, 0, 0, 0, 0, 0],\n",
      "    [0, 0, 0, 0, 0, 0, 0, 0, 0, 0, 0, 0, 0, 0, 0],\n",
      "    [0, 0, 0, 0, 0, 0, 0, 0, 0, 0, 0, 0, 0, 0, 0],\n",
      "    [0, 8, 8, 8, 0, 0, 0, 0, 0, 0, 0, 8, 8, 8, 0],\n",
      "    [0, 8, 0, 8, 0, 0, 0, 0, 0, 0, 0, 8, 0, 8, 0],\n",
      "    [0, 8, 8, 8, 0, 0, 0, 0, 0, 0, 0, 8, 8, 8, 0],\n",
      "    [0, 0, 0, 0, 0, 0, 0, 0, 0, 0, 0, 0, 0, 0, 0],\n",
      "    [0, 0, 0, 0, 0, 0, 0, 0, 0, 0, 0, 0, 0, 0, 0],\n",
      "    [0, 0, 8, 8, 8, 0, 0, 0, 0, 0, 8, 8, 8, 0, 0],\n",
      "    [0, 0, 8, 0, 8, 0, 0, 0, 0, 0, 8, 0, 8, 0, 0],\n",
      "    [0, 0, 8, 8, 8, 0, 0, 0, 0, 0, 8, 8, 8, 0, 0],\n",
      "    [0, 0, 0, 0, 0, 0, 0, 0, 0, 0, 0, 0, 0, 0, 0]\n",
      "]\n",
      "``` \n",
      "\n"
     ]
    }
   ],
   "source": [
    "query_generate_grid = \"\"\" I want you to take a good look at the input grid that I provide. \n",
    "For this grid, I want you to generate a  matrix (python list of lists - let call it inp_mat) for the provided grid.\n",
    "The matrix should have the same dimensions as the input grid and there should be one to one correspondence between the input grid and the matrix that you generate.\n",
    "The first list in the inp_mat should correspond to the first row in the input grid and the second list should correspond to the second row in the input grid.\n",
    "Similarly the first element in the second list should correspond to the first cell in the second row and so on.\n",
    "len(inp_mat) == number of rows in the input grid. len(inp_mat[0] = inp_mat[1] = inp_mat[2] ...) == number of columns in the input grid.\n",
    "Use the colour schema that I am defining here. \n",
    "                                [ 0: (0, 0, 0),          # Black\n",
    "                                  1: (255, 0, 0),        # Red\n",
    "                                  2: (0, 255, 0),        # Green\n",
    "                                  3: (0, 0, 255),        # Blue\n",
    "                                  4: (255, 255, 0),      # Yellow\n",
    "                                  5: (255, 0, 255),      # Magenta\n",
    "                                  6: (0, 255, 255),      # Cyan\n",
    "                                  7: (128, 0, 128),      # Purple\n",
    "                                  8: (255, 165, 0),      # Orange\n",
    "                                  9: (0, 128, 128)       # Teal  ]\n",
    "For example, a 3*3 grid with all black cells but one single red cell in the middle should be represented as:\n",
    "[[0, 0, 0],\n",
    " [0, 1, 0],\n",
    " [0, 0, 0]]\n",
    "Using this knowledge, write a matrix as list of lists for the provided input grid in image.\n",
    " \"\"\"\n",
    "train_3_input_path = get_snapshot_images_path(working_set, page_number, grid_type='train', index=3, grid_name='input')\n",
    "train_3_input = Image.open(train_3_input_path[0])\n",
    "\n",
    "result = dspy_instance.send_message(train_3_input, query_generate_grid)\n",
    "print(result)"
   ]
  },
  {
   "cell_type": "code",
   "execution_count": 46,
   "metadata": {},
   "outputs": [
    {
     "data": {
      "image/png": "[encoded data removed]",
      "text/plain": [
       "<Figure size 640x480 with 1 Axes>"
      ]
     },
     "metadata": {},
     "output_type": "display_data"
    },
    {
     "name": "stdout",
     "output_type": "stream",
     "text": [
      "Opening \"/tmp/tmp43tewhss.PNG\" with GNU Image Manipulation Program  (image/png)\n"
     ]
    },
    {
     "name": "stderr",
     "output_type": "stream",
     "text": [
      "Use of uninitialized value $file in open at /usr/share/perl5/File/MimeInfo/Applications.pm line 140.\n",
      "Use of uninitialized value $file in open at /usr/share/perl5/File/MimeInfo/Applications.pm line 140.\n",
      "Use of uninitialized value in subroutine entry at /usr/share/perl5/File/BaseDir.pm line 105.\n",
      "Use of uninitialized value in subroutine entry at /usr/share/perl5/File/BaseDir.pm line 105.\n",
      "Use of uninitialized value in subroutine entry at /usr/share/perl5/File/BaseDir.pm line 105.\n",
      "Use of uninitialized value in subroutine entry at /usr/share/perl5/File/BaseDir.pm line 105.\n",
      "Use of uninitialized value $file in open at /usr/share/perl5/File/MimeInfo/Applications.pm line 140.\n",
      "Use of uninitialized value $file in open at /usr/share/perl5/File/MimeInfo/Applications.pm line 140.\n",
      "Use of uninitialized value in subroutine entry at /usr/share/perl5/File/BaseDir.pm line 105.\n",
      "Use of uninitialized value in subroutine entry at /usr/share/perl5/File/BaseDir.pm line 105.\n",
      "Use of uninitialized value in subroutine entry at /usr/share/perl5/File/BaseDir.pm line 105.\n",
      "Use of uninitialized value in subroutine entry at /usr/share/perl5/File/BaseDir.pm line 105.\n"
     ]
    },
    {
     "data": {
      "image/png": "[encoded data removed]",
      "text/plain": [
       "<Figure size 640x480 with 1 Axes>"
      ]
     },
     "metadata": {},
     "output_type": "display_data"
    }
   ],
   "source": [
    "from GUI.matplotlib.create_grid_image import create_grid_image\n",
    "\n",
    "train_3_input.show()\n",
    "\n",
    "gemini_matrix = [\n",
    "    [0, 0, 0, 0, 8, 8, 8, 8, 0, 0, 0, 0, 0, 0, 0],\n",
    "    [0, 0, 0, 0, 8, 0, 0, 8, 0, 0, 0, 0, 0, 0, 0],\n",
    "    [0, 0, 0, 0, 8, 8, 8, 8, 0, 0, 0, 0, 0, 0, 0],\n",
    "    [0, 0, 0, 0, 0, 0, 0, 0, 0, 0, 0, 0, 0, 0, 0],\n",
    "    [0, 0, 0, 0, 0, 0, 0, 0, 0, 0, 0, 0, 0, 0, 0],\n",
    "    [0, 8, 8, 8, 0, 0, 0, 0, 0, 0, 0, 8, 8, 8, 0],\n",
    "    [0, 8, 0, 8, 0, 0, 0, 0, 0, 0, 0, 8, 0, 8, 0],\n",
    "    [0, 8, 8, 8, 0, 0, 0, 0, 0, 0, 0, 8, 8, 8, 0],\n",
    "    [0, 0, 0, 0, 0, 0, 0, 0, 0, 0, 0, 0, 0, 0, 0],\n",
    "    [0, 0, 0, 0, 0, 0, 0, 0, 0, 0, 0, 0, 0, 0, 0],\n",
    "    [0, 0, 8, 8, 8, 0, 0, 0, 0, 0, 8, 8, 8, 0, 0],\n",
    "    [0, 0, 8, 0, 8, 0, 0, 0, 0, 0, 8, 0, 8, 0, 0],\n",
    "    [0, 0, 8, 8, 8, 0, 0, 0, 0, 0, 8, 8, 8, 0, 0],\n",
    "    [0, 0, 0, 0, 0, 0, 0, 0, 0, 0, 0, 0, 0, 0, 0]\n",
    "]\n",
    "\n",
    "create_grid_image(gemini_matrix)\n",
    "\n",
    "claude_matrix = [\n",
    "    [0, 0, 8, 0, 8, 0, 0, 0, 0, 0, 0, 0, 0, 0],\n",
    "    [0, 8, 0, 8, 8, 8, 8, 8, 0, 8, 0, 0, 0, 0],\n",
    "    [0, 0, 0, 0, 0, 0, 0, 0, 0, 0, 0, 0, 0, 0],\n",
    "    [0, 0, 0, 0, 0, 0, 0, 0, 0, 0, 0, 0, 0, 0],\n",
    "    [8, 8, 0, 8, 0, 0, 0, 0, 8, 8, 8, 0, 0, 0],\n",
    "    [8, 0, 8, 0, 0, 0, 0, 8, 0, 0, 8, 0, 0, 0],\n",
    "    [8, 0, 8, 0, 0, 0, 0, 0, 8, 8, 0, 0, 0, 0],\n",
    "    [8, 8, 0, 0, 0, 0, 8, 0, 8, 8, 0, 0, 0, 0],\n",
    "    [0, 8, 0, 0, 0, 8, 0, 8, 0, 0, 0, 0, 0, 0],\n",
    "    [0, 8, 8, 8, 0, 8, 8, 0, 0, 0, 0, 0, 0, 0],\n",
    "    [0, 0, 0, 0, 0, 0, 0, 0, 0, 0, 0, 0, 0, 0]\n",
    "]\n",
    "\n",
    "create_grid_image(claude_matrix)"
   ]
  }
 ],
 "metadata": {
  "kernelspec": {
   "display_name": "arc_prize_wsl",
   "language": "python",
   "name": "python3"
  },
  "language_info": {
   "codemirror_mode": {
    "name": "ipython",
    "version": 3
   },
   "file_extension": ".py",
   "mimetype": "text/x-python",
   "name": "python",
   "nbconvert_exporter": "python",
   "pygments_lexer": "ipython3",
   "version": "3.12.3"
  }
 },
 "nbformat": 4,
 "nbformat_minor": 2
}
