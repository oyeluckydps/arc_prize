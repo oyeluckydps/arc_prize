{
 "cells": [
  {
   "cell_type": "code",
   "execution_count": 17,
   "metadata": {},
   "outputs": [],
   "source": [
    "_008_input = [{} for i in range(5)]\n",
    "\n",
    "_008_input[0][0] = [\n",
    "                    [0, 0, 0, 0, 0, 0, 0, 0, 0, 0, 0, 0, 0, 0],\n",
    "                    [0, 0, 0, 0, 0, 0, 0, \".\", \".\", 0, \".\", \".\", 0, 0],\n",
    "                    [0, 0, 0, 0, 0, 0, 0, 0, \".\", \".\", \".\", 0, 0, 0],\n",
    "                    [0, 0, 0, 0, 0, \".\", \".\", \".\", \".\", 0, 0, 0, 0, 0],\n",
    "                    [0, 0, 0, 0, \".\", \".\", 0, \".\", 0, 0, \".\", \".\", 0, 0],\n",
    "                    [0, 0, 0, 0, 0, 0, 0, \".\", \".\", \".\", \".\", 0, 0, 0],\n",
    "                    [0, 0, 0, 0, 0, 0, 0, 0, \".\", 0, \".\", 0, 0, 0],\n",
    "                    [0, 0, 0, 0, 0, 0, \".\", \".\", \".\", 0, \".\", \".\", \".\", 0],\n",
    "                    [0, 0, 0, 0, 0, 0, \".\", 0, 0, 0, 0, 0, \".\", 0],\n",
    "                    [0, 0, \".\", 0, 0, 0, 0, 0, 0, 0, 0, 0, 0, 0],\n",
    "                    [0, \".\", \".\", \".\", 0, 0, 0, 0, 0, 0, 0, 0, 0, 0],\n",
    "                    [0, 0, \".\", 0, 0, 0, 0, 0, 0, 0, 0, 0, 0, 0],\n",
    "                    [0, 0, 0, 0, 0, 0, 0, 0, 0, 0, 0, 0, 0, 0],\n",
    "                    [0, 0, 0, 0, 0, 0, 0, 0, 0, 0, 0, 0, 0, 0]\n",
    "                    ]\n",
    "\n",
    "_008_input[0][1] = [\n",
    "[\".\", \".\", \".\", \".\", \".\", \".\", \".\", \".\", \".\", \".\", \".\", \".\", \".\", \".\"],\n",
    "[\".\", \".\", \".\", \".\", \".\", \".\", \".\", 8, 8, \".\", 8, 8, \".\", \".\"],\n",
    "[\".\", \".\", \".\", \".\", \".\", \".\", \".\", \".\", 8, 8, 8, \".\", \".\", \".\"],\n",
    "[\".\", \".\", \".\", \".\", \".\", 8, 8, 8, 8, \".\", \".\", \".\", \".\", \".\"],\n",
    "[\".\", \".\", \".\", \".\", 8, 8, \".\", 8, \".\", \".\", 8, 8, \".\", \".\"],\n",
    "[\".\", \".\", \".\", \".\", \".\", \".\", \".\", 8, 8, 8, 8, \".\", \".\", \".\"],\n",
    "[\".\", \".\", \".\", \".\", \".\", \".\", \".\", \".\", 8, \".\", 8, \".\", \".\", \".\"],\n",
    "[\".\", \".\", \".\", \".\", \".\", \".\", 8, 8, 8, \".\", 8, 8, 8, \".\"],\n",
    "[\".\", \".\", \".\", \".\", \".\", \".\", 8, \".\", \".\", \".\", \".\", \".\", 8, \".\"],\n",
    "[\".\", \".\", \".\", \".\", \".\", \".\", \".\", \".\", \".\", \".\", \".\", \".\", \".\", \".\"],\n",
    "[\".\", \".\", \".\", \".\", \".\", \".\", \".\", \".\", \".\", \".\", \".\", \".\", \".\", \".\"],\n",
    "[\".\", \".\", \".\", \".\", \".\", \".\", \".\", \".\", \".\", \".\", \".\", \".\", \".\", \".\"],\n",
    "[\".\", \".\", \".\", \".\", \".\", \".\", \".\", \".\", \".\", \".\", \".\", \".\", \".\", \".\"],\n",
    "[\".\", \".\", \".\", \".\", \".\", \".\", \".\", \".\", \".\", \".\", \".\", \".\", \".\", \".\"]\n",
    "]\n",
    "\n",
    "\n",
    "_008_input[0][2] = [\n",
    "[\".\", \".\", \".\", \".\", \".\", \".\", \".\", \".\", \".\", \".\", \".\", \".\", \".\", \".\"],\n",
    "[\".\", \".\", \".\", \".\", \".\", \".\", \".\", \".\", \".\", \".\", \".\", \".\", \".\", \".\"],\n",
    "[\".\", \".\", \".\", \".\", \".\", \".\", \".\", \".\", \".\", \".\", \".\", \".\", \".\", \".\"],\n",
    "[\".\", \".\", \".\", \".\", \".\", \".\", \".\", \".\", \".\", \".\", \".\", \".\", \".\", \".\"],\n",
    "[\".\", \".\", \".\", \".\", \".\", \".\", \".\", \".\", \".\", \".\", \".\", \".\", \".\", \".\"],\n",
    "[\".\", \".\", \".\", \".\", \".\", \".\", \".\", \".\", \".\", \".\", \".\", \".\", \".\", \".\"],\n",
    "[\".\", \".\", \".\", \".\", \".\", \".\", \".\", \".\", \".\", \".\", \".\", \".\", \".\", \".\"],\n",
    "[\".\", \".\", \".\", \".\", \".\", \".\", \".\", \".\", \".\", \".\", \".\", \".\", \".\", \".\"],\n",
    "[\".\", \".\", \".\", \".\", \".\", \".\", \".\", \".\", \".\", \".\", \".\", \".\", \".\", \".\"],\n",
    "[\".\", \".\", 1, \".\", \".\", \".\", \".\", \".\", \".\", \".\", \".\", \".\", \".\", \".\"],\n",
    "[\".\", 1, 1, 1, \".\", \".\", \".\", \".\", \".\", \".\", \".\", \".\", \".\", \".\"],\n",
    "[\".\", \".\", 1, \".\", \".\", \".\", \".\", \".\", \".\", \".\", \".\", \".\", \".\", \".\"],\n",
    "[\".\", \".\", \".\", \".\", \".\", \".\", \".\", \".\", \".\", \".\", \".\", \".\", \".\", \".\"],\n",
    "[\".\", \".\", \".\", \".\", \".\", \".\", \".\", \".\", \".\", \".\", \".\", \".\", \".\", \".\"]\n",
    "]\n",
    "\n"
   ]
  },
  {
   "cell_type": "code",
   "execution_count": 18,
   "metadata": {},
   "outputs": [],
   "source": [
    "_008_input[1][0] = [[0, 0, 0, 0, 0, 0, 0, 0, 0, 0, 0, 0, 0, 0],\n",
    "[0, 0, 0, 0, 0, 0, 0, 0, 0, 0, 0, 0, 0, 0],\n",
    "[0, 0, 0, 0, \".\", \".\", 0, \".\", 0, \".\", \".\", 0, 0, 0],\n",
    "[0, 0, 0, 0, \".\", 0, \".\", 0, \".\", 0, \".\", 0, 0, 0],\n",
    "[0, 0, 0, 0, \".\", \".\", 0, \".\", 0, \".\", \".\", 0, 0, 0],\n",
    "[0, 0, 0, 0, 0, 0, 0, 0, 0, 0, 0, 0, 0, 0],\n",
    "[0, 0, 0, 0, 0, 0, 0, 0, 0, 0, 0, 0, 0, 0],\n",
    "[0, 0, 0, 0, 0, 0, 0, 0, 0, 0, 0, 0, 0, 0],\n",
    "[0, 0, 0, 0, 0, 0, 0, 0, 0, 0, 0, 0, 0, 0],\n",
    "[0, 0, 0, 0, 0, 0, 0, 0, 0, 0, 0, 0, 0, 0],\n",
    "[0, 0, 0, \".\", 0, \".\", 0, 0, 0, 0, 0, 0, 0, 0],\n",
    "[0, 0, 0, 0, \".\", 0, 0, 0, 0, 0, 0, 0, 0, 0],\n",
    "[0, 0, 0, \".\", \".\", \".\", 0, 0, 0, 0, 0, 0, 0, 0],\n",
    "[0, 0, 0, 0, 0, 0, 0, 0, 0, 0, 0, 0, 0, 0]]\n",
    "\n",
    "_008_input[1][1] = [[\".\", \".\", \".\", \".\", \".\", \".\", \".\", \".\", \".\", \".\", \".\", \".\", \".\", \".\"],\n",
    "[\".\", \".\", \".\", \".\", \".\", \".\", \".\", \".\", \".\", \".\", \".\", \".\", \".\", \".\"],\n",
    "[\".\", \".\", \".\", \".\", 8, 8, \".\", 8, \".\", 8, 8, \".\", \".\", \".\"],\n",
    "[\".\", \".\", \".\", \".\", 8, \".\", 8, \".\", 8, \".\", 8, \".\", \".\", \".\"],\n",
    "[\".\", \".\", \".\", \".\", 8, 8, \".\", 8, \".\", 8, 8, \".\", \".\", \".\"],\n",
    "[\".\", \".\", \".\", \".\", \".\", \".\", \".\", \".\", \".\", \".\", \".\", \".\", \".\", \".\"],\n",
    "[\".\", \".\", \".\", \".\", \".\", \".\", \".\", \".\", \".\", \".\", \".\", \".\", \".\", \".\"],\n",
    "[\".\", \".\", \".\", \".\", \".\", \".\", \".\", \".\", \".\", \".\", \".\", \".\", \".\", \".\"],\n",
    "[\".\", \".\", \".\", \".\", \".\", \".\", \".\", \".\", \".\", \".\", \".\", \".\", \".\", \".\"],\n",
    "[\".\", \".\", \".\", \".\", \".\", \".\", \".\", \".\", \".\", \".\", \".\", \".\", \".\", \".\"],\n",
    "[\".\", \".\", \".\", \".\", \".\", \".\", \".\", \".\", \".\", \".\", \".\", \".\", \".\", \".\"],\n",
    "[\".\", \".\", \".\", \".\", \".\", \".\", \".\", \".\", \".\", \".\", \".\", \".\", \".\", \".\"],\n",
    "[\".\", \".\", \".\", \".\", \".\", \".\", \".\", \".\", \".\", \".\", \".\", \".\", \".\", \".\"],\n",
    "[\".\", \".\", \".\", \".\", \".\", \".\", \".\", \".\", \".\", \".\", \".\", \".\", \".\", \".\"]]\n",
    "\n",
    "_008_input[1][2] = [[\".\", \".\", \".\", \".\", \".\", \".\", \".\", \".\", \".\", \".\", \".\", \".\", \".\", \".\"],\n",
    "[\".\", \".\", \".\", \".\", \".\", \".\", \".\", \".\", \".\", \".\", \".\", \".\", \".\", \".\"],\n",
    "[\".\", \".\", \".\", \".\", \".\", \".\", \".\", \".\", \".\", \".\", \".\", \".\", \".\", \".\"],\n",
    "[\".\", \".\", \".\", \".\", \".\", \".\", \".\", \".\", \".\", \".\", \".\", \".\", \".\", \".\"],\n",
    "[\".\", \".\", \".\", \".\", \".\", \".\", \".\", \".\", \".\", \".\", \".\", \".\", \".\", \".\"],\n",
    "[\".\", \".\", \".\", \".\", \".\", \".\", \".\", \".\", \".\", \".\", \".\", \".\", \".\", \".\"],\n",
    "[\".\", \".\", \".\", \".\", \".\", \".\", \".\", \".\", \".\", \".\", \".\", \".\", \".\", \".\"],\n",
    "[\".\", \".\", \".\", \".\", \".\", \".\", \".\", \".\", \".\", \".\", \".\", \".\", \".\", \".\"],\n",
    "[\".\", \".\", \".\", \".\", \".\", \".\", \".\", \".\", \".\", \".\", \".\", \".\", \".\", \".\"],\n",
    "[\".\", \".\", \".\", \".\", \".\", \".\", \".\", \".\", \".\", \".\", \".\", \".\", \".\", \".\"],\n",
    "[\".\", \".\", \".\", 1, \".\", 1, \".\", \".\", \".\", \".\", \".\", \".\", \".\", \".\"],\n",
    "[\".\", \".\", \".\", \".\", 1, \".\", \".\", \".\", \".\", \".\", \".\", \".\", \".\", \".\"],\n",
    "[\".\", \".\", \".\", 1, 1, 1, \".\", \".\", \".\", \".\", \".\", \".\", \".\", \".\"],\n",
    "[\".\", \".\", \".\", \".\", \".\", \".\", \".\", \".\", \".\", \".\", \".\", \".\", \".\", \".\"]]"
   ]
  },
  {
   "cell_type": "markdown",
   "metadata": {},
   "source": [
    "_008_input[2][0] = [[0, 0, 0, \".\", 0, 0, 0, \".\", 0, 0, 0, 0, 0, 0],\n",
    "[0, \".\", 0, \".\", 0, \".\", 0, \".\", 0, \".\", 0, 0, 0, 0],\n",
    "[0, \".\", \".\", \".\", \".\", \".\", \".\", \".\", \".\", \".\", 0, 0, 0, 0],\n",
    "[0, \".\", 0, \".\", 0, \".\", 0, \".\", 0, \".\", 0, 0, 0, 0],\n",
    "[0, \".\", 0, 0, 0, \".\", 0, 0, 0, \".\", 0, 0, 0, 0],\n",
    "[0, 0, 0, 0, 0, 0, 0, 0, 0, 0, 0, 0, 0, 0],\n",
    "[0, 0, 0, 0, 0, 0, 0, 0, 0, 0, 0, 0, 0, 0],\n",
    "[0, 0, 0, 0, 0, 0, 0, 0, 0, 0, 0, 0, 0, 0],\n",
    "[0, 0, 0, 0, 0, 0, 0, 0, 0, 0, 0, 0, 0, 0],\n",
    "[0, 0, 0, 0, 0, 0, 0, 0, \".\", 0, 0, 0, 0, 0],\n",
    "[0, 0, 0, 0, 0, 0, 0, \".\", \".\", \".\", 0, 0, 0, 0],\n",
    "[0, 0, 0, 0, 0, 0, 0, 0, \".\", 0, 0, 0, 0, 0],\n",
    "[0, 0, 0, 0, 0, 0, 0, 0, 0, 0, 0, 0, 0, 0],\n",
    "[0, 0, 0, 0, 0, 0, 0, 0, 0, 0, 0, 0, 0, 0]]\n",
    "\n",
    "_008_input[2][1] = [[\".\", \".\", \".\", 8, \".\", \".\", \".\", 8, \".\", \".\", \".\", \".\", \".\", \".\"],\n",
    "[\".\", 8, \".\", 8, \".\", 8, \".\", 8, \".\", 8, \".\", \".\", \".\", \".\"],\n",
    "[\".\", 8, 8, 8, 8, 8, 8, 8, 8, 8, \".\", \".\", \".\", \".\"],\n",
    "[\".\", 8, \".\", 8, \".\", 8, \".\", 8, \".\", 8, \".\", \".\", \".\", \".\"],\n",
    "[\".\", 8, \".\", \".\", \".\", 8, \".\", \".\", \".\", 8, \".\", \".\", \".\", \".\"],\n",
    "[\".\", \".\", \".\", \".\", \".\", \".\", \".\", \".\", \".\", \".\", \".\", \".\", \".\", \".\"],\n",
    "[\".\", \".\", \".\", \".\", \".\", \".\", \".\", \".\", \".\", \".\", \".\", \".\", \".\", \".\"],\n",
    "[\".\", \".\", \".\", \".\", \".\", \".\", \".\", \".\", \".\", \".\", \".\", \".\", \".\", \".\"],\n",
    "[\".\", \".\", \".\", \".\", \".\", \".\", \".\", \".\", \".\", \".\", \".\", \".\", \".\", \".\"],\n",
    "[\".\", \".\", \".\", \".\", \".\", \".\", \".\", \".\", \".\", \".\", \".\", \".\", \".\", \".\"],\n",
    "[\".\", \".\", \".\", \".\", \".\", \".\", \".\", \".\", \".\", \".\", \".\", \".\", \".\", \".\"],\n",
    "[\".\", \".\", \".\", \".\", \".\", \".\", \".\", \".\", \".\", \".\", \".\", \".\", \".\", \".\"],\n",
    "[\".\", \".\", \".\", \".\", \".\", \".\", \".\", \".\", \".\", \".\", \".\", \".\", \".\", \".\"],\n",
    "[\".\", \".\", \".\", \".\", \".\", \".\", \".\", \".\", \".\", \".\", \".\", \".\", \".\", \".\"]]\n",
    "\n",
    "_008_input[2][2] = [[\".\", \".\", \".\", \".\", \".\", \".\", \".\", \".\", \".\", \".\", \".\", \".\", \".\", \".\"],\n",
    "[\".\", \".\", \".\", \".\", \".\", \".\", \".\", \".\", \".\", \".\", \".\", \".\", \".\", \".\"],\n",
    "[\".\", \".\", \".\", \".\", \".\", \".\", \".\", \".\", \".\", \".\", \".\", \".\", \".\", \".\"],\n",
    "[\".\", \".\", \".\", \".\", \".\", \".\", \".\", \".\", \".\", \".\", \".\", \".\", \".\", \".\"],\n",
    "[\".\", \".\", \".\", \".\", \".\", \".\", \".\", \".\", \".\", \".\", \".\", \".\", \".\", \".\"],\n",
    "[\".\", \".\", \".\", \".\", \".\", \".\", \".\", \".\", \".\", \".\", \".\", \".\", \".\", \".\"],\n",
    "[\".\", \".\", \".\", \".\", \".\", \".\", \".\", \".\", \".\", \".\", \".\", \".\", \".\", \".\"],\n",
    "[\".\", \".\", \".\", \".\", \".\", \".\", \".\", \".\", \".\", \".\", \".\", \".\", \".\", \".\"],\n",
    "[\".\", \".\", \".\", \".\", \".\", \".\", \".\", \".\", \".\", \".\", \".\", \".\", \".\", \".\"],\n",
    "[\".\", \".\", \".\", \".\", \".\", \".\", \".\", \".\", 1, \".\", \".\", \".\", \".\", \".\"],\n",
    "[\".\", \".\", \".\", \".\", \".\", \".\", \".\", 1, 1, 1, \".\", \".\", \".\", \".\"],\n",
    "[\".\", \".\", \".\", \".\", \".\", \".\", \".\", \".\", 1, \".\", \".\", \".\", \".\", \".\"],\n",
    "[\".\", \".\", \".\", \".\", \".\", \".\", \".\", \".\", \".\", \".\", \".\", \".\", \".\", \".\"],\n",
    "[\".\", \".\", \".\", \".\", \".\", \".\", \".\", \".\", \".\", \".\", \".\", \".\", \".\", \".\"]]"
   ]
  },
  {
   "cell_type": "code",
   "execution_count": null,
   "metadata": {},
   "outputs": [],
   "source": [
    "_008_input[3][0] = \n",
    "\n",
    "_008_input[3][1] = \n",
    "\n",
    "_008_input[3][2] = [[\".\", \".\", \".\", \".\", \".\", \".\", \".\", \".\", \".\", \".\", \".\", \".\", \".\", \".\"],\n",
    "[\".\", \".\", \".\", \".\", \".\", \".\", \".\", \".\", \".\", \".\", \".\", \".\", \".\", \".\"],\n",
    "[\".\", \".\", \".\", \".\", \".\", \".\", \".\", \".\", \".\", \".\", \".\", \".\", \".\", \".\"],\n",
    "[\".\", \".\", \".\", \".\", \".\", \".\", \".\", \".\", \".\", \".\", \".\", \".\", \".\", \".\"],\n",
    "[\".\", \".\", \".\", \".\", \".\", \".\", \".\", \".\", \".\", \".\", \".\", \".\", \".\", \".\"],\n",
    "[\".\", \".\", \".\", \".\", \".\", \".\", \".\", \".\", \".\", \".\", \".\", \".\", \".\", \".\"],\n",
    "[\".\", \".\", \".\", \".\", \".\", \".\", \".\", \".\", \".\", \".\", \".\", \".\", \".\", \".\"],\n",
    "[\".\", \".\", \".\", \".\", \".\", \".\", \".\", \".\", \".\", \".\", \".\", \".\", \".\", \".\"],\n",
    "[\".\", \".\", \".\", \".\", \".\", \".\", \".\", \".\", \".\", \".\", \".\", \".\", \".\", \".\"],\n",
    "[\".\", \".\", \".\", \".\", \".\", \".\", \".\", \".\", \".\", \".\", \".\", \".\", \".\", \".\"],\n",
    "[\".\", \".\", \".\", \".\", 1, 1, 1, \".\", \".\", \".\", \".\", \".\", \".\", \".\"],\n",
    "[\".\", \".\", \".\", \".\", 1, \".\", 1, \".\", \".\", \".\", \".\", \".\", \".\", \".\"],\n",
    "[\".\", \".\", \".\", \".\", \".\", 1, \".\", \".\", \".\", \".\", \".\", \".\", \".\", \".\"],\n",
    "[\".\", \".\", \".\", \".\", \".\", \".\", \".\", \".\", \".\", \".\", \".\", \".\", \".\", \".\"]]"
   ]
  },
  {
   "cell_type": "code",
   "execution_count": null,
   "metadata": {},
   "outputs": [],
   "source": [
    "_008_input[4][0] = \n",
    "\n",
    "_008_input[4][1] = \n",
    "\n",
    "_008_input[4][2] = [[\".\", \".\", \".\", \".\", \".\", \".\", \".\", \".\", \".\", \".\", \".\", \".\", \".\", \".\"],\n",
    "[\".\", \".\", \".\", \".\", \".\", \".\", \".\", \".\", \".\", \".\", \".\", \".\", \".\", \".\"],\n",
    "[\".\", \".\", \".\", \".\", \".\", \".\", \".\", \".\", \".\", \".\", \".\", \".\", \".\", \".\"],\n",
    "[\".\", \".\", \".\", \".\", \".\", \".\", \".\", \".\", \".\", \".\", \".\", \".\", \".\", \".\"],\n",
    "[\".\", \".\", \".\", \".\", \".\", \".\", \".\", \".\", \".\", \".\", \".\", \".\", \".\", \".\"],\n",
    "[\".\", \".\", \".\", \".\", \".\", \".\", \".\", \".\", \".\", \".\", \".\", \".\", \".\", \".\"],\n",
    "[\".\", \".\", \".\", \".\", \".\", \".\", \".\", \".\", \".\", \".\", \".\", \".\", \".\", \".\"],\n",
    "[\".\", \".\", \".\", \".\", \".\", \".\", \".\", \".\", \".\", \".\", \".\", \".\", \".\", \".\"],\n",
    "[\".\", \".\", 1, \".\", 1, \".\", \".\", \".\", \".\", \".\", \".\", \".\", \".\", \".\"],\n",
    "[\".\", \".\", \".\", 1, \".\", \".\", \".\", \".\", \".\", \".\", \".\", \".\", \".\", \".\"],\n",
    "[\".\", \".\", 1, 1, 1, \".\", \".\", \".\", \".\", \".\", \".\", \".\", \".\", \".\"],\n",
    "[\".\", \".\", \".\", \".\", \".\", \".\", \".\", \".\", \".\", \".\", \".\", \".\", \".\", \".\"],\n",
    "[\".\", \".\", \".\", \".\", \".\", \".\", \".\", \".\", \".\", \".\", \".\", \".\", \".\", \".\"],\n",
    "[\".\", \".\", \".\", \".\", \".\", \".\", \".\", \".\", \".\", \".\", \".\", \".\", \".\", \".\"]]"
   ]
  },
  {
   "cell_type": "code",
   "execution_count": 1,
   "metadata": {},
   "outputs": [
    {
     "data": {
      "image/png": "[encoded data removed]",
      "text/plain": [
       "<Figure size 640x480 with 1 Axes>"
      ]
     },
     "metadata": {},
     "output_type": "display_data"
    }
   ],
   "source": [
    "from GUI.matplotlib.create_grid_image import create_grid_image\n",
    "\n",
    "def print_patterns(separate_patterns):\n",
    "    for k, v in separate_patterns.items():\n",
    "        print(k)\n",
    "        create_grid_image(v)\n",
    "        print()\n"
   ]
  },
  {
   "cell_type": "code",
   "execution_count": 20,
   "metadata": {},
   "outputs": [
    {
     "name": "stdout",
     "output_type": "stream",
     "text": [
      "0\n"
     ]
    },
    {
     "data": {
      "image/png": "[encoded data removed]",
      "text/plain": [
       "<Figure size 640x480 with 1 Axes>"
      ]
     },
     "metadata": {},
     "output_type": "display_data"
    },
    {
     "name": "stdout",
     "output_type": "stream",
     "text": [
      "\n",
      "1\n"
     ]
    },
    {
     "data": {
      "image/png": "[encoded data removed]",
      "text/plain": [
       "<Figure size 640x480 with 1 Axes>"
      ]
     },
     "metadata": {},
     "output_type": "display_data"
    },
    {
     "name": "stdout",
     "output_type": "stream",
     "text": [
      "\n",
      "2\n"
     ]
    },
    {
     "data": {
      "image/png": "[encoded data removed]",
      "text/plain": [
       "<Figure size 640x480 with 1 Axes>"
      ]
     },
     "metadata": {},
     "output_type": "display_data"
    },
    {
     "name": "stdout",
     "output_type": "stream",
     "text": [
      "\n"
     ]
    }
   ],
   "source": [
    "print_patterns(_008_input[0])"
   ]
  },
  {
   "cell_type": "code",
   "execution_count": 2,
   "metadata": {},
   "outputs": [],
   "source": [
    "_004_input = [{} for i in range(3)]\n",
    "\n",
    "_004_input[0][0] = [\n",
    "[0, 0, 0, 0, 0, 0, 0, 0, 0, 0],\n",
    "[0, 0, 0, 0, 0, 0, 0, 0, 0, 0],\n",
    "[0, 0, 0, 0, 0, 0, 0, 0, 0, 0],\n",
    "[0, 0, 0, 0, 0, 0, 0, 0, 0, 0],\n",
    "[0, 0, 0, 0, 0, 0, 0, 0, 0, 0],\n",
    "[0, 0, 0, 0, 0, 0, 0, 0, 0, 0],\n",
    "[0, 0, 0, 0, 0, 0, 0, 0, 0, \".\"],\n",
    "[\".\", \".\", 0, 0, 0, 0, 0, 0, 0, \".\"],\n",
    "[\".\", \".\", 0, \".\", \".\", 0, \".\", \".\", 0, \".\"],\n",
    "[\".\", \".\", 0, \".\", \".\", 0, \".\", \".\", 0, \".\"]\n",
    "]\n",
    "\n",
    "_004_input[0][1] = [\n",
    "[\".\", \".\", \".\", \".\", \".\", \".\", \".\", \".\", \".\", \".\"],\n",
    "[\".\", \".\", \".\", \".\", \".\", \".\", \".\", \".\", \".\", \".\"],\n",
    "[\".\", \".\", \".\", \".\", \".\", \".\", \".\", \".\", \".\", \".\"],\n",
    "[\".\", \".\", \".\", \".\", \".\", \".\", \".\", \".\", \".\", \".\"],\n",
    "[\".\", \".\", \".\", \".\", \".\", \".\", \".\", \".\", \".\", \".\"],\n",
    "[\".\", \".\", \".\", \".\", \".\", \".\", \".\", \".\", \".\", \".\"],\n",
    "[\".\", \".\", \".\", \".\", \".\", \".\", \".\", \".\", \".\", \".\"],\n",
    "[\".\", \".\", \".\", \".\", \".\", \".\", \".\", \".\", \".\", \".\"],\n",
    "[\".\", \".\", \".\", \".\", \".\", \".\", 3, 3, \".\", \".\"],\n",
    "[\".\", \".\", \".\", \".\", \".\", \".\", 3, 3, \".\", \".\"]\n",
    "]\n",
    "\n",
    "\n",
    "\n",
    "_004_input[0][2] = [\n",
    "[\".\",\".\",\".\",\".\",\".\",\".\",\".\",\".\",\".\",\".\" ],\n",
    "[\".\",\".\",\".\",\".\",\".\",\".\",\".\",\".\",\".\",\".\" ],\n",
    "[\".\",\".\",\".\",\".\",\".\",\".\",\".\",\".\",\".\",\".\" ],\n",
    "[\".\",\".\",\".\",\".\",\".\",\".\",\".\",\".\",\".\",\".\" ],\n",
    "[\".\",\".\",\".\",\".\",\".\",\".\",\".\",\".\",\".\",\".\" ],\n",
    "[\".\",\".\",\".\",\".\",\".\",\".\",\".\",\".\",\".\",\".\" ],\n",
    "[\".\",\".\",\".\",\".\",\".\",\".\",\".\",\".\",\".\",\".\" ],\n",
    "[\"1\",\"1\",\".\",\".\",\".\",\".\",\".\",\".\",\".\",\".\" ],\n",
    "[\"1\",\"1\",\".\",\".\",\".\",\".\",\".\",\".\",\".\",\".\" ],\n",
    "[\"1\",\"1\",\".\",\".\",\".\",\".\",\".\",\".\",\".\",\".\" ]\n",
    "]\n",
    "\n",
    "\n",
    "_004_input[0][3] = [\n",
    "[\".\", \".\", \".\", \".\", \".\", \".\", \".\", \".\", \".\", \".\"],\n",
    "[\".\", \".\", \".\", \".\", \".\", \".\", \".\", \".\", \".\", \".\"],\n",
    "[\".\", \".\", \".\", \".\", \".\", \".\", \".\", \".\", \".\", \".\"],\n",
    "[\".\", \".\", \".\", \".\", \".\", \".\", \".\", \".\", \".\", \".\"],\n",
    "[\".\", \".\", \".\", \".\", \".\", \".\", \".\", \".\", \".\", \".\"],\n",
    "[\".\", \".\", \".\", \".\", \".\", \".\", \".\", \".\", \".\", \".\"],\n",
    "[\".\", \".\", \".\", \".\", \".\", \".\", \".\", \".\", \".\", 4],\n",
    "[\".\", \".\", \".\", \".\", \".\", \".\", \".\", \".\", \".\", 4],\n",
    "[\".\", \".\", \".\", \".\", \".\", \".\", \".\", \".\", \".\", 4],\n",
    "[\".\", \".\", \".\", \".\", \".\", \".\", \".\", \".\", \".\", 4]\n",
    "]\n",
    "\n",
    "\n",
    "_004_input[0][4] = [\n",
    "[\".\", \".\", \".\", \".\", \".\", \".\", \".\", \".\", \".\", \".\"],\n",
    "[\".\", \".\", \".\", \".\", \".\", \".\", \".\", \".\", \".\", \".\"],\n",
    "[\".\", \".\", \".\", \".\", \".\", \".\", \".\", \".\", \".\", \".\"],\n",
    "[\".\", \".\", \".\", \".\", \".\", \".\", \".\", \".\", \".\", \".\"],\n",
    "[\".\", \".\", \".\", \".\", \".\", \".\", \".\", \".\", \".\", \".\"],\n",
    "[\".\", \".\", \".\", \".\", \".\", \".\", \".\", \".\", \".\", \".\"],\n",
    "[\".\", \".\", \".\", \".\", \".\", \".\", \".\", \".\", \".\", \".\"],\n",
    "[\".\", \".\", \".\", \".\", \".\", \".\", \".\", \".\", \".\", \".\"],\n",
    "[\".\", \".\", \".\", 2, 2, \".\", 3, 3, \".\", \".\"],\n",
    "[\".\", \".\", \".\", 2, 2, \".\", 3, 3, \".\", \".\"]\n",
    "]\n",
    "\n",
    "_004_input[0][5] = [[0, 0, 0, 0, 0, 0, 0, 0, 0, 0],\n",
    "                      [0, 0, 0, 0, 0, 0, 0, 0, 0, 0],\n",
    "                      [0, 0, 0, 0, 0, 0, 0, 0, 0, 0],\n",
    "                      [0, 0, 0, 0, 0, 0, 0, 0, 0, 0],\n",
    "                      [0, 0, 0, 0, 0, 0, 0, 0, 0, 0],\n",
    "                      [0, 0, 0, 0, 0, 0, 0, 0, 0, 0],\n",
    "                      [0, 0, 0, 0, 0, 0, 0, 0, 0, 4],\n",
    "                      [1, 1, 0, 0, 0, 0, 0, 0, 0, 4],\n",
    "                      [1, 1, 0, 2, 2, 0, 3, 3, 0, 4],\n",
    "                      [1, 1, 0, 2, 2, 0, 3, 3, 0, 4]]"
   ]
  },
  {
   "cell_type": "code",
   "execution_count": 3,
   "metadata": {},
   "outputs": [
    {
     "name": "stdout",
     "output_type": "stream",
     "text": [
      "0\n"
     ]
    },
    {
     "data": {
      "image/png": "[encoded data removed]",
      "text/plain": [
       "<Figure size 640x480 with 1 Axes>"
      ]
     },
     "metadata": {},
     "output_type": "display_data"
    },
    {
     "name": "stdout",
     "output_type": "stream",
     "text": [
      "\n",
      "1\n"
     ]
    },
    {
     "data": {
      "image/png": "[encoded data removed]",
      "text/plain": [
       "<Figure size 640x480 with 1 Axes>"
      ]
     },
     "metadata": {},
     "output_type": "display_data"
    },
    {
     "name": "stdout",
     "output_type": "stream",
     "text": [
      "\n",
      "2\n"
     ]
    },
    {
     "data": {
      "image/png": "[encoded data removed]",
      "text/plain": [
       "<Figure size 640x480 with 1 Axes>"
      ]
     },
     "metadata": {},
     "output_type": "display_data"
    },
    {
     "name": "stdout",
     "output_type": "stream",
     "text": [
      "\n",
      "3\n"
     ]
    },
    {
     "data": {
      "image/png": "[encoded data removed]",
      "text/plain": [
       "<Figure size 640x480 with 1 Axes>"
      ]
     },
     "metadata": {},
     "output_type": "display_data"
    },
    {
     "name": "stdout",
     "output_type": "stream",
     "text": [
      "\n",
      "4\n"
     ]
    },
    {
     "data": {
      "image/png": "[encoded data removed]",
      "text/plain": [
       "<Figure size 640x480 with 1 Axes>"
      ]
     },
     "metadata": {},
     "output_type": "display_data"
    },
    {
     "name": "stdout",
     "output_type": "stream",
     "text": [
      "\n",
      "5\n"
     ]
    },
    {
     "data": {
      "image/png": "[encoded data removed]",
      "text/plain": [
       "<Figure size 640x480 with 1 Axes>"
      ]
     },
     "metadata": {},
     "output_type": "display_data"
    },
    {
     "name": "stdout",
     "output_type": "stream",
     "text": [
      "\n"
     ]
    }
   ],
   "source": [
    "print_patterns(_004_input[0])"
   ]
  },
  {
   "cell_type": "code",
   "execution_count": 2,
   "metadata": {},
   "outputs": [],
   "source": [
    "from typing import List, Optional, Tuple\n",
    "\n",
    "def detect_bottom_right_cluster(matrix: List[List[int]], \n",
    "                                min_size: int = 2, \n",
    "                                max_size: Optional[int] = None) -> bool:\n",
    "    \"\"\"\n",
    "    Detect the presence of a bottom-right cluster in the given matrix.\n",
    "\n",
    "    Args:\n",
    "    matrix (List[List[int]]): The input matrix to search for the pattern.\n",
    "    min_size (int): The minimum size of the cluster (default 2).\n",
    "    max_size (Optional[int]): The maximum size of the cluster (default None, meaning no upper limit).\n",
    "\n",
    "    Returns:\n",
    "    bool: True if the pattern is detected, False otherwise.\n",
    "    \"\"\"\n",
    "    rows, cols = len(matrix), len(matrix[0])\n",
    "    if max_size is None:\n",
    "        max_size = min(rows, cols)\n",
    "\n",
    "    for size in range(min_size, max_size + 1):\n",
    "        cluster_value = matrix[rows - 1][cols - 1]\n",
    "        if cluster_value == 0:\n",
    "            return False\n",
    "\n",
    "        is_cluster = all(\n",
    "            matrix[r][c] == cluster_value\n",
    "            for r in range(rows - size, rows)\n",
    "            for c in range(cols - size, cols)\n",
    "        )\n",
    "        if is_cluster:\n",
    "            return True\n",
    "\n",
    "    return False\n",
    "\n",
    "\n",
    "def extract_bottom_right_cluster(matrix: List[List[int]], \n",
    "                                 min_size: int = 2, \n",
    "                                 max_size: Optional[int] = None) -> List[List[str]]:\n",
    "    \"\"\"\n",
    "    Extract the bottom-right cluster pattern from the given matrix.\n",
    "\n",
    "    Args:\n",
    "    matrix (List[List[int]]): The input matrix to extract the pattern from.\n",
    "    min_size (int): The minimum size of the cluster (default 2).\n",
    "    max_size (Optional[int]): The maximum size of the cluster (default None, meaning no upper limit).\n",
    "\n",
    "    Returns:\n",
    "    List[List[str]]: A new matrix with the pattern extracted and other elements replaced by '.'.\n",
    "    \"\"\"\n",
    "    rows, cols = len(matrix), len(matrix[0])\n",
    "    if max_size is None:\n",
    "        max_size = min(rows, cols)\n",
    "\n",
    "    result = [['.' for _ in range(cols)] for _ in range(rows)]\n",
    "    \n",
    "    for size in range(min_size, max_size + 1):\n",
    "        cluster_value = matrix[rows - 1][cols - 1]\n",
    "        if cluster_value == 0:\n",
    "            return result\n",
    "\n",
    "        is_cluster = all(\n",
    "            matrix[r][c] == cluster_value\n",
    "            for r in range(rows - size, rows)\n",
    "            for c in range(cols - size, cols)\n",
    "        )\n",
    "        if is_cluster:\n",
    "            for r in range(rows - size, rows):\n",
    "                for c in range(cols - size, cols):\n",
    "                    result[r][c] = str(cluster_value)\n",
    "            return result\n",
    "\n",
    "    return result"
   ]
  },
  {
   "cell_type": "code",
   "execution_count": 5,
   "metadata": {},
   "outputs": [
    {
     "name": "stdout",
     "output_type": "stream",
     "text": [
      "Processing INPUT_004_1:\n",
      "Bottom-right cluster detected: False\n",
      "No pattern extracted.\n",
      "----------------------------------------\n",
      "Processing INPUT_004_2:\n",
      "Bottom-right cluster detected: True\n",
      "Extracted pattern:\n"
     ]
    },
    {
     "data": {
      "image/png": "[encoded data removed]",
      "text/plain": [
       "<Figure size 640x480 with 1 Axes>"
      ]
     },
     "metadata": {},
     "output_type": "display_data"
    },
    {
     "name": "stdout",
     "output_type": "stream",
     "text": [
      "----------------------------------------\n",
      "Processing INPUT_004_3:\n",
      "Bottom-right cluster detected: True\n",
      "Extracted pattern:\n"
     ]
    },
    {
     "data": {
      "image/png": "[encoded data removed]",
      "text/plain": [
       "<Figure size 640x480 with 1 Axes>"
      ]
     },
     "metadata": {},
     "output_type": "display_data"
    },
    {
     "name": "stdout",
     "output_type": "stream",
     "text": [
      "----------------------------------------\n"
     ]
    }
   ],
   "source": [
    "from GUI.matplotlib.create_grid_image import create_grid_image\n",
    "\n",
    "# Define the input matrices\n",
    "INPUT_004_1 = [\n",
    "    [0, 0, 0, 0, 0, 0, 0, 0, 0, 0],\n",
    "    [0, 0, 0, 0, 0, 0, 0, 0, 0, 0],\n",
    "    [0, 0, 0, 0, 0, 0, 0, 0, 0, 0],\n",
    "    [0, 0, 0, 0, 0, 0, 0, 0, 0, 0],\n",
    "    [0, 0, 0, 0, 0, 0, 0, 0, 0, 0],\n",
    "    [0, 0, 0, 0, 0, 0, 0, 0, 0, 0],\n",
    "    [0, 0, 0, 0, 0, 0, 0, 0, 0, 4],\n",
    "    [1, 1, 0, 0, 0, 0, 0, 0, 0, 4],\n",
    "    [1, 1, 0, 2, 2, 0, 3, 3, 0, 4],\n",
    "    [1, 1, 0, 2, 2, 0, 3, 3, 0, 4]\n",
    "]\n",
    "\n",
    "INPUT_004_2 = [\n",
    "    [0, 0, 0, 0, 0, 0, 0, 0, 0, 0],\n",
    "    [0, 0, 0, 0, 0, 0, 0, 0, 0, 0],\n",
    "    [0, 0, 0, 0, 0, 0, 0, 0, 0, 0],\n",
    "    [0, 0, 0, 0, 0, 0, 0, 0, 0, 0],\n",
    "    [0, 0, 0, 0, 0, 0, 0, 0, 0, 0],\n",
    "    [0, 0, 0, 0, 0, 0, 0, 0, 0, 0],\n",
    "    [8, 8, 8, 0, 0, 0, 0, 0, 0, 0],\n",
    "    [8, 8, 8, 0, 0, 0, 0, 0, 0, 0],\n",
    "    [8, 8, 8, 0, 7, 7, 0, 2, 2, 2],\n",
    "    [8, 8, 8, 0, 7, 7, 0, 2, 2, 2]\n",
    "]\n",
    "\n",
    "INPUT_004_3 = [\n",
    "    [0, 0, 0, 0, 0, 0, 0, 0, 0, 0],\n",
    "    [0, 0, 0, 0, 0, 0, 0, 0, 0, 0],\n",
    "    [0, 0, 0, 0, 0, 0, 0, 0, 0, 0],\n",
    "    [0, 0, 0, 0, 0, 0, 0, 0, 0, 0],\n",
    "    [0, 0, 0, 0, 0, 0, 0, 0, 0, 0],\n",
    "    [0, 0, 0, 0, 0, 2, 0, 0, 0, 0],\n",
    "    [0, 0, 0, 0, 0, 2, 0, 0, 0, 0],\n",
    "    [0, 0, 0, 0, 0, 2, 0, 3, 3, 3],\n",
    "    [4, 4, 4, 4, 0, 2, 0, 3, 3, 3],\n",
    "    [4, 4, 4, 4, 0, 2, 0, 3, 3, 3]\n",
    "]\n",
    "\n",
    "# List of input matrices\n",
    "input_matrices = [INPUT_004_1, INPUT_004_2, INPUT_004_3]\n",
    "\n",
    "def process_matrices(matrices: List[List[List[int]]]):\n",
    "    \"\"\"\n",
    "    Process a list of matrices, detecting and extracting the bottom-right cluster pattern.\n",
    "    \n",
    "    Args:\n",
    "    matrices (List[List[List[int]]]): A list of input matrices to process.\n",
    "    \"\"\"\n",
    "    for i, matrix in enumerate(matrices, 1):\n",
    "        print(f\"Processing INPUT_004_{i}:\")\n",
    "        \n",
    "        # Detect the pattern\n",
    "        pattern_detected = detect_bottom_right_cluster(matrix)\n",
    "        print(f\"Bottom-right cluster detected: {pattern_detected}\")\n",
    "        \n",
    "        if pattern_detected:\n",
    "            # Extract the pattern\n",
    "            extracted_pattern = extract_bottom_right_cluster(matrix)\n",
    "            print(\"Extracted pattern:\")\n",
    "            create_grid_image(extracted_pattern)\n",
    "        else:\n",
    "            print(\"No pattern extracted.\")\n",
    "        \n",
    "        print(\"-\" * 40)\n",
    "\n",
    "process_matrices(input_matrices)"
   ]
  },
  {
   "cell_type": "code",
   "execution_count": 4,
   "metadata": {},
   "outputs": [
    {
     "data": {
      "image/png": "[encoded data removed]",
      "text/plain": [
       "<Figure size 640x480 with 1 Axes>"
      ]
     },
     "metadata": {},
     "output_type": "display_data"
    }
   ],
   "source": [
    "_006_2_output = [\n",
    "    [0, 0, 2, 2, 0, 0, 0, 0, 2, 2, 0, 0, 0, 0, 2, 2, 0, 0, 0, 0, 0, 0],\n",
    "    [0, 3, 2, 2, 0, 0, 0, 3, 2, 2, 0, 0, 0, 3, 2, 2, 0, 0, 0, 0, 0, 0],\n",
    "    [3, 3, 1, 1, 0, 0, 3, 3, 1, 1, 0, 0, 3, 3, 1, 1, 0, 0, 0, 0, 0, 0],\n",
    "    [0, 0, 0, 0, 0, 0, 0, 0, 0, 0, 0, 0, 0, 0, 0, 0, 0, 0, 0, 0, 0, 0],\n",
    "    [0, 0, 0, 0, 0, 0, 0, 0, 0, 0, 0, 0, 0, 0, 0, 0, 0, 0, 0, 0, 0, 0],\n",
    "    [0, 0, 2, 2, 0, 0, 0, 0, 2, 2, 0, 0, 0, 3, 2, 2, 3, 0, 0, 0, 0, 0],\n",
    "    [0, 3, 2, 2, 0, 0, 0, 3, 2, 2, 0, 0, 3, 3, 2, 2, 3, 0, 0, 0, 0, 0],\n",
    "    [3, 3, 1, 1, 0, 0, 3, 3, 1, 1, 0, 0, 3, 3, 1, 1, 0, 0, 0, 0, 0, 0],\n",
    "    [0, 0, 0, 0, 0, 0, 0, 0, 0, 0, 0, 0, 0, 0, 0, 0, 0, 0, 0, 0, 0, 0],\n",
    "    [0, 0, 0, 0, 0, 0, 0, 0, 0, 0, 0, 0, 0, 0, 0, 0, 0, 0, 0, 0, 0, 0],\n",
    "    [0, 0, 2, 2, 0, 0, 0, 0, 2, 2, 0, 0, 0, 0, 2, 2, 0, 0, 0, 0, 0, 0],\n",
    "    [0, 3, 2, 2, 0, 0, 0, 3, 2, 2, 0, 0, 0, 3, 2, 2, 0, 0, 0, 0, 0, 0],\n",
    "    [3, 3, 1, 1, 0, 0, 3, 3, 1, 1, 0, 0, 3, 3, 1, 1, 0, 0, 0, 0, 0, 0],\n",
    "    [0, 0, 0, 0, 0, 0, 0, 0, 0, 0, 0, 0, 0, 0, 0, 0, 0, 0, 0, 0, 0, 0],\n",
    "    [0, 0, 0, 0, 0, 0, 0, 0, 0, 0, 0, 0, 0, 0, 0, 0, 0, 0, 0, 0, 0, 0],\n",
    "    [0, 0, 0, 0, 0, 0, 0, 0, 0, 0, 0, 0, 0, 0, 0, 0, 0, 0, 0, 0, 0, 0],\n",
    "    [0, 0, 0, 0, 0, 0, 0, 0, 0, 0, 0, 0, 0, 0, 0, 0, 0, 0, 0, 0, 0, 0],\n",
    "    [0, 0, 0, 0, 0, 0, 0, 0, 0, 0, 0, 0, 0, 0, 0, 0, 0, 0, 0, 0, 0, 0],\n",
    "    [0, 0, 0, 0, 0, 0, 0, 0, 0, 0, 0, 0, 0, 0, 0, 0, 0, 0, 0, 0, 0, 0],\n",
    "    [0, 0, 0, 0, 0, 0, 0, 0, 0, 0, 0, 0, 0, 0, 0, 0, 0, 0, 0, 0, 0, 0],\n",
    "    [0, 0, 0, 0, 0, 0, 0, 0, 0, 0, 0, 0, 0, 0, 0, 0, 0, 0, 0, 0, 0, 0],\n",
    "    [0, 0, 0, 0, 0, 0, 0, 0, 0, 0, 0, 0, 0, 0, 0, 0, 0, 0, 0, 0, 0, 0]\n",
    "]\n",
    "\n",
    "create_grid_image(_006_2_output)"
   ]
  }
 ],
 "metadata": {
  "kernelspec": {
   "display_name": "arc_prize_wsl",
   "language": "python",
   "name": "python3"
  },
  "language_info": {
   "codemirror_mode": {
    "name": "ipython",
    "version": 3
   },
   "file_extension": ".py",
   "mimetype": "text/x-python",
   "name": "python",
   "nbconvert_exporter": "python",
   "pygments_lexer": "ipython3",
   "version": "3.12.3"
  }
 },
 "nbformat": 4,
 "nbformat_minor": 2
}
